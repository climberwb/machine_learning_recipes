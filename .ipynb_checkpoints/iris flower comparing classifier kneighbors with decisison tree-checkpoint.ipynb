{
 "cells": [
  {
   "cell_type": "code",
   "execution_count": 26,
   "metadata": {
    "collapsed": false
   },
   "outputs": [
    {
     "data": {
      "text/plain": [
       "array([2, 2, 0, 0, 1, 1, 2, 0, 0, 1, 2, 0, 0, 0, 2, 1, 1, 2, 0, 1, 2, 1, 0,\n",
       "       1, 1, 2, 0, 2, 0, 2, 1, 2, 2, 2, 0, 2, 0, 0, 2, 1, 0, 2, 1, 0, 1, 1,\n",
       "       0, 1, 0, 2, 0, 1, 2, 0, 2, 2, 2, 1, 1, 1, 1, 0, 2, 2, 2, 1, 1, 1, 2,\n",
       "       0, 1, 0, 2, 1, 0])"
      ]
     },
     "execution_count": 26,
     "metadata": {},
     "output_type": "execute_result"
    }
   ],
   "source": [
    "from sklearn import datasets\n",
    "from sklearn import tree\n",
    "iris = datasets.load_iris()\n",
    "\n",
    "X = iris.data\n",
    "y = iris.target\n",
    "\n",
    "from sklearn.cross_validation import train_test_split\n",
    "X_train, X_test, y_train, y_test = train_test_split(X,y,test_size=.5)\n",
    "\n",
    "from sklearn import tree\n",
    "iris_tree = tree.DecisionTreeClassifier()\n",
    "def classify(X_training,X_testing,y_training,my_classifier):\n",
    "    my_classifier.fit(X=X_training,y=y_training)\n",
    "    predictions = my_classifier.predict(X_testing)\n",
    "    return predictions\n",
    "\n",
    "\n",
    "'''results'''\n",
    "predictions_for_decision_tree = classify(X_train,X_test,y_train,iris_tree)\n",
    "predictions_for_decision_tree"
   ]
  },
  {
   "cell_type": "code",
   "execution_count": 27,
   "metadata": {
    "collapsed": false
   },
   "outputs": [
    {
     "data": {
      "text/plain": [
       "0.94666666666666666"
      ]
     },
     "execution_count": 27,
     "metadata": {},
     "output_type": "execute_result"
    }
   ],
   "source": [
    "'''accuracy for decision tree classifier'''\n",
    "\n",
    "from sklearn.metrics import accuracy_score\n",
    "accuracy_score(y_test,predictions_for_decision_tree)"
   ]
  },
  {
   "cell_type": "code",
   "execution_count": 28,
   "metadata": {
    "collapsed": false
   },
   "outputs": [
    {
     "data": {
      "text/plain": [
       "array([2, 2, 0, 0, 1, 1, 2, 0, 0, 1, 2, 0, 0, 0, 2, 2, 1, 2, 0, 1, 2, 1, 0,\n",
       "       1, 1, 2, 0, 2, 0, 2, 1, 2, 2, 2, 0, 2, 0, 0, 2, 1, 0, 2, 1, 0, 1, 1,\n",
       "       0, 1, 0, 2, 0, 1, 2, 0, 2, 2, 2, 1, 1, 1, 1, 0, 2, 2, 2, 1, 1, 1, 2,\n",
       "       0, 1, 0, 2, 1, 0])"
      ]
     },
     "execution_count": 28,
     "metadata": {},
     "output_type": "execute_result"
    }
   ],
   "source": [
    "from sklearn.neighbors import KNeighborsClassifier\n",
    "my_k_neighbor = KNeighborsClassifier()\n",
    "predictions_for_kneighbor = classify(X_train,X_test,y_train,my_k_neighbor) \n",
    "predictions_for_kneighbor"
   ]
  },
  {
   "cell_type": "code",
   "execution_count": 29,
   "metadata": {
    "collapsed": false
   },
   "outputs": [
    {
     "data": {
      "text/plain": [
       "0.94666666666666666"
      ]
     },
     "execution_count": 29,
     "metadata": {},
     "output_type": "execute_result"
    }
   ],
   "source": [
    "'''accuracy for kneighbors classifier'''\n",
    "\n",
    "accuracy_score(y_test,predictions_for_kneighbor)"
   ]
  },
  {
   "cell_type": "code",
   "execution_count": null,
   "metadata": {
    "collapsed": true
   },
   "outputs": [],
   "source": []
  }
 ],
 "metadata": {
  "kernelspec": {
   "display_name": "Python 3",
   "language": "python",
   "name": "python3"
  },
  "language_info": {
   "codemirror_mode": {
    "name": "ipython",
    "version": 3
   },
   "file_extension": ".py",
   "mimetype": "text/x-python",
   "name": "python",
   "nbconvert_exporter": "python",
   "pygments_lexer": "ipython3",
   "version": "3.5.2"
  }
 },
 "nbformat": 4,
 "nbformat_minor": 0
}
